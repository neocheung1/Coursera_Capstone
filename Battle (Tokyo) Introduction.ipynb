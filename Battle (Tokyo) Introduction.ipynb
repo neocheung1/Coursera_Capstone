{
 "cells": [
  {
   "cell_type": "markdown",
   "metadata": {
    "collapsed": true
   },
   "source": [
    "# 1. Discussion and Background of the Business Problem:"
   ]
  },
  {
   "cell_type": "markdown",
   "metadata": {},
   "source": [
    "Tokyo is one of the most populous metropolitan in the world. Just Tokyo alone has over 15 million people. In addition, there are few hundred thousands of people commute from suburb to Tokyo business area to work every day. Tokyo is a one of the most famous gourmet city in the world. Besides traditional Japanese food like sushi, ramen, tempura, other cuisine like Italian, Chinese and French are ranked in top tier globally. There are 226 Michelin-starred restaurants in Tokyo totally, which are the most in the cities around the globe."
   ]
  },
  {
   "cell_type": "markdown",
   "metadata": {},
   "source": [
    "Tokyo have 5 major business wards Chiyoda (千代田区), Chuo (中央区), Shinjuku (新宿区), Shibuya (渋谷区) and Shinagawa (品川区). Few hundred thousands of white collar workers consume food, beer, coffee.. etc in these districts. There are numerous options and competitions are extremely high. If you are a restaurant owner and planning to open a new one, where should you open it. Would you choose the most populated area or you choose less competition district. In this project, we will examine it."
   ]
  },
  {
   "cell_type": "markdown",
   "metadata": {},
   "source": [
    "### Target Audience"
   ]
  },
  {
   "cell_type": "markdown",
   "metadata": {},
   "source": [
    "F&B business corporation or individual owner can use this analaysis to decide where to expand new outlets that targeting office workers"
   ]
  },
  {
   "cell_type": "markdown",
   "metadata": {},
   "source": [
    "# 2. Data Preparation"
   ]
  },
  {
   "cell_type": "markdown",
   "metadata": {},
   "source": [
    "I first make use of zip.nowmsg.com to scrap the table to create a data-frame. For this, I’ve used requests and Beautifulsoup4 library to create a data-frame containing name of the 23 wards with 4 columns wards, district, latitude and longitude. "
   ]
  },
  {
   "cell_type": "code",
   "execution_count": 3,
   "metadata": {},
   "outputs": [],
   "source": [
    "import pandas as pd\n",
    "import requests\n",
    "from bs4 import BeautifulSoup\n",
    "import re\n",
    "\n",
    "response_obj = requests.get('https://zip.nowmsg.com/city.asp?country=JP&state=Tokyo%20To&county=Shinjuku%20Ku').text"
   ]
  },
  {
   "cell_type": "code",
   "execution_count": 4,
   "metadata": {},
   "outputs": [],
   "source": [
    "soup = BeautifulSoup(response_obj,'html.parser')"
   ]
  },
  {
   "cell_type": "code",
   "execution_count": null,
   "metadata": {},
   "outputs": [],
   "source": []
  },
  {
   "cell_type": "code",
   "execution_count": 5,
   "metadata": {},
   "outputs": [],
   "source": [
    "lst = []\n",
    "for row in soup.select('div[class=\"col-md-3 my-padding-6\"]'):\n",
    "    district = row.text.strip()\n",
    "    url = 'https://zip.nowmsg.com/postal_code.asp?country=JP&state=Tokyo%20To&county=Shinjuku%20Ku&city='+district\n",
    "    inside = requests.get(url).text\n",
    "    s = BeautifulSoup(inside,'html.parser')\n",
    "    s_list = s.select('table[class=\"table table-hover\"]')\n",
    "    tmp = str(s_list)\n",
    "    patt = re.compile(r'\\b\\d+\\.\\d+')\n",
    "    lnl = patt.findall(tmp)\n",
    "    lat = lnl[0]\n",
    "    lon = lnl[1]\n",
    "    lst.append(['Shinjuku',district,lat,lon])\n",
    "\n",
    "\n",
    "s_df = pd.DataFrame(lst, columns=[\"Ward\", \"District\",\"Latitude\",\"longitude\"])"
   ]
  },
  {
   "cell_type": "code",
   "execution_count": 8,
   "metadata": {},
   "outputs": [
    {
     "data": {
      "text/html": [
       "<div>\n",
       "<style scoped>\n",
       "    .dataframe tbody tr th:only-of-type {\n",
       "        vertical-align: middle;\n",
       "    }\n",
       "\n",
       "    .dataframe tbody tr th {\n",
       "        vertical-align: top;\n",
       "    }\n",
       "\n",
       "    .dataframe thead th {\n",
       "        text-align: right;\n",
       "    }\n",
       "</style>\n",
       "<table border=\"1\" class=\"dataframe\">\n",
       "  <thead>\n",
       "    <tr style=\"text-align: right;\">\n",
       "      <th></th>\n",
       "      <th>Ward</th>\n",
       "      <th>District</th>\n",
       "      <th>Latitude</th>\n",
       "      <th>longitude</th>\n",
       "    </tr>\n",
       "  </thead>\n",
       "  <tbody>\n",
       "    <tr>\n",
       "      <th>0</th>\n",
       "      <td>Shinjuku</td>\n",
       "      <td>Agebacho</td>\n",
       "      <td>35.7024</td>\n",
       "      <td>139.743</td>\n",
       "    </tr>\n",
       "    <tr>\n",
       "      <th>1</th>\n",
       "      <td>Shinjuku</td>\n",
       "      <td>Aizumicho</td>\n",
       "      <td>35.6902</td>\n",
       "      <td>139.7199</td>\n",
       "    </tr>\n",
       "    <tr>\n",
       "      <th>2</th>\n",
       "      <td>Shinjuku</td>\n",
       "      <td>Akagi Motomachi</td>\n",
       "      <td>35.7056</td>\n",
       "      <td>139.7393</td>\n",
       "    </tr>\n",
       "    <tr>\n",
       "      <th>3</th>\n",
       "      <td>Shinjuku</td>\n",
       "      <td>Akagi Shitamachi</td>\n",
       "      <td>35.7057</td>\n",
       "      <td>139.7343</td>\n",
       "    </tr>\n",
       "    <tr>\n",
       "      <th>4</th>\n",
       "      <td>Shinjuku</td>\n",
       "      <td>Arakicho</td>\n",
       "      <td>35.6902</td>\n",
       "      <td>139.7229</td>\n",
       "    </tr>\n",
       "  </tbody>\n",
       "</table>\n",
       "</div>"
      ],
      "text/plain": [
       "       Ward          District Latitude longitude\n",
       "0  Shinjuku          Agebacho  35.7024   139.743\n",
       "1  Shinjuku         Aizumicho  35.6902  139.7199\n",
       "2  Shinjuku   Akagi Motomachi  35.7056  139.7393\n",
       "3  Shinjuku  Akagi Shitamachi  35.7057  139.7343\n",
       "4  Shinjuku          Arakicho  35.6902  139.7229"
      ]
     },
     "execution_count": 8,
     "metadata": {},
     "output_type": "execute_result"
    }
   ],
   "source": [
    "s_df.head()"
   ]
  },
  {
   "cell_type": "code",
   "execution_count": null,
   "metadata": {},
   "outputs": [],
   "source": []
  }
 ],
 "metadata": {
  "kernelspec": {
   "display_name": "Python 3.6",
   "language": "python",
   "name": "python3"
  },
  "language_info": {
   "codemirror_mode": {
    "name": "ipython",
    "version": 3
   },
   "file_extension": ".py",
   "mimetype": "text/x-python",
   "name": "python",
   "nbconvert_exporter": "python",
   "pygments_lexer": "ipython3",
   "version": "3.6.9"
  }
 },
 "nbformat": 4,
 "nbformat_minor": 1
}
